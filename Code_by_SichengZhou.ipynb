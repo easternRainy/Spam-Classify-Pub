{
 "cells": [
  {
   "cell_type": "markdown",
   "metadata": {},
   "source": [
    "# Spam Classifier\n",
    "Tags: #Classification #NLP #BiLSTM"
   ]
  },
  {
   "cell_type": "markdown",
   "metadata": {},
   "source": [
    "## Download the data"
   ]
  },
  {
   "cell_type": "code",
   "execution_count": null,
   "metadata": {},
   "outputs": [],
   "source": [
    "!wget 'https://docs.google.com/uc?export=download&id=1OVRo37agn02mc6yp5p6-wtJ8Hyb-YMXR' -O spam.csv"
   ]
  },
  {
   "cell_type": "markdown",
   "metadata": {},
   "source": [
    "## Explore the data"
   ]
  },
  {
   "cell_type": "code",
   "execution_count": 262,
   "metadata": {},
   "outputs": [
    {
     "data": {
      "text/html": [
       "<div>\n",
       "<style scoped>\n",
       "    .dataframe tbody tr th:only-of-type {\n",
       "        vertical-align: middle;\n",
       "    }\n",
       "\n",
       "    .dataframe tbody tr th {\n",
       "        vertical-align: top;\n",
       "    }\n",
       "\n",
       "    .dataframe thead th {\n",
       "        text-align: right;\n",
       "    }\n",
       "</style>\n",
       "<table border=\"1\" class=\"dataframe\">\n",
       "  <thead>\n",
       "    <tr style=\"text-align: right;\">\n",
       "      <th></th>\n",
       "      <th>v1</th>\n",
       "      <th>v2</th>\n",
       "    </tr>\n",
       "  </thead>\n",
       "  <tbody>\n",
       "    <tr>\n",
       "      <th>0</th>\n",
       "      <td>ham</td>\n",
       "      <td>Go until jurong point, crazy.. Available only ...</td>\n",
       "    </tr>\n",
       "    <tr>\n",
       "      <th>1</th>\n",
       "      <td>ham</td>\n",
       "      <td>Ok lar... Joking wif u oni...</td>\n",
       "    </tr>\n",
       "    <tr>\n",
       "      <th>2</th>\n",
       "      <td>spam</td>\n",
       "      <td>Free entry in 2 a wkly comp to win FA Cup fina...</td>\n",
       "    </tr>\n",
       "    <tr>\n",
       "      <th>3</th>\n",
       "      <td>ham</td>\n",
       "      <td>U dun say so early hor... U c already then say...</td>\n",
       "    </tr>\n",
       "    <tr>\n",
       "      <th>4</th>\n",
       "      <td>ham</td>\n",
       "      <td>Nah I don't think he goes to usf, he lives aro...</td>\n",
       "    </tr>\n",
       "  </tbody>\n",
       "</table>\n",
       "</div>"
      ],
      "text/plain": [
       "     v1                                                 v2\n",
       "0   ham  Go until jurong point, crazy.. Available only ...\n",
       "1   ham                      Ok lar... Joking wif u oni...\n",
       "2  spam  Free entry in 2 a wkly comp to win FA Cup fina...\n",
       "3   ham  U dun say so early hor... U c already then say...\n",
       "4   ham  Nah I don't think he goes to usf, he lives aro..."
      ]
     },
     "execution_count": 262,
     "metadata": {},
     "output_type": "execute_result"
    }
   ],
   "source": [
    "import pandas as pd\n",
    "import numpy as np\n",
    "\n",
    "df = pd.read_csv(\"spam.csv\", usecols=[\"v1\", \"v2\"], encoding=\"latin-1\")\n",
    "df.head()"
   ]
  },
  {
   "cell_type": "markdown",
   "metadata": {},
   "source": [
    "## Description of the Task"
   ]
  },
  {
   "cell_type": "raw",
   "metadata": {},
   "source": [
    "Use word-level BiLSTM sentence encoder to encode the sentence and a neural network classifier"
   ]
  },
  {
   "cell_type": "markdown",
   "metadata": {},
   "source": [
    "## Preprocessing the Data"
   ]
  },
  {
   "cell_type": "markdown",
   "metadata": {},
   "source": [
    "- Encode spam as 1, ham as 0"
   ]
  },
  {
   "cell_type": "code",
   "execution_count": 263,
   "metadata": {},
   "outputs": [
    {
     "data": {
      "text/html": [
       "<div>\n",
       "<style scoped>\n",
       "    .dataframe tbody tr th:only-of-type {\n",
       "        vertical-align: middle;\n",
       "    }\n",
       "\n",
       "    .dataframe tbody tr th {\n",
       "        vertical-align: top;\n",
       "    }\n",
       "\n",
       "    .dataframe thead th {\n",
       "        text-align: right;\n",
       "    }\n",
       "</style>\n",
       "<table border=\"1\" class=\"dataframe\">\n",
       "  <thead>\n",
       "    <tr style=\"text-align: right;\">\n",
       "      <th></th>\n",
       "      <th>v1</th>\n",
       "      <th>v2</th>\n",
       "    </tr>\n",
       "  </thead>\n",
       "  <tbody>\n",
       "    <tr>\n",
       "      <th>0</th>\n",
       "      <td>0</td>\n",
       "      <td>Go until jurong point, crazy.. Available only ...</td>\n",
       "    </tr>\n",
       "    <tr>\n",
       "      <th>1</th>\n",
       "      <td>0</td>\n",
       "      <td>Ok lar... Joking wif u oni...</td>\n",
       "    </tr>\n",
       "    <tr>\n",
       "      <th>2</th>\n",
       "      <td>1</td>\n",
       "      <td>Free entry in 2 a wkly comp to win FA Cup fina...</td>\n",
       "    </tr>\n",
       "    <tr>\n",
       "      <th>3</th>\n",
       "      <td>0</td>\n",
       "      <td>U dun say so early hor... U c already then say...</td>\n",
       "    </tr>\n",
       "    <tr>\n",
       "      <th>4</th>\n",
       "      <td>0</td>\n",
       "      <td>Nah I don't think he goes to usf, he lives aro...</td>\n",
       "    </tr>\n",
       "  </tbody>\n",
       "</table>\n",
       "</div>"
      ],
      "text/plain": [
       "   v1                                                 v2\n",
       "0   0  Go until jurong point, crazy.. Available only ...\n",
       "1   0                      Ok lar... Joking wif u oni...\n",
       "2   1  Free entry in 2 a wkly comp to win FA Cup fina...\n",
       "3   0  U dun say so early hor... U c already then say...\n",
       "4   0  Nah I don't think he goes to usf, he lives aro..."
      ]
     },
     "execution_count": 263,
     "metadata": {},
     "output_type": "execute_result"
    }
   ],
   "source": [
    "df.v1 = (df.v1 == \"spam\").astype(\"int\")\n",
    "df.head()"
   ]
  },
  {
   "cell_type": "markdown",
   "metadata": {},
   "source": [
    "- Shuffle the Data"
   ]
  },
  {
   "cell_type": "code",
   "execution_count": 264,
   "metadata": {},
   "outputs": [
    {
     "data": {
      "text/html": [
       "<div>\n",
       "<style scoped>\n",
       "    .dataframe tbody tr th:only-of-type {\n",
       "        vertical-align: middle;\n",
       "    }\n",
       "\n",
       "    .dataframe tbody tr th {\n",
       "        vertical-align: top;\n",
       "    }\n",
       "\n",
       "    .dataframe thead th {\n",
       "        text-align: right;\n",
       "    }\n",
       "</style>\n",
       "<table border=\"1\" class=\"dataframe\">\n",
       "  <thead>\n",
       "    <tr style=\"text-align: right;\">\n",
       "      <th></th>\n",
       "      <th>v1</th>\n",
       "      <th>v2</th>\n",
       "    </tr>\n",
       "  </thead>\n",
       "  <tbody>\n",
       "    <tr>\n",
       "      <th>5125</th>\n",
       "      <td>0</td>\n",
       "      <td>After my work ah... Den 6 plus lor... U workin...</td>\n",
       "    </tr>\n",
       "    <tr>\n",
       "      <th>1581</th>\n",
       "      <td>0</td>\n",
       "      <td>Hhahhaahahah rofl wtf nig was leonardo in your...</td>\n",
       "    </tr>\n",
       "    <tr>\n",
       "      <th>1510</th>\n",
       "      <td>0</td>\n",
       "      <td>Pete,is this your phone still? Its Jenny from ...</td>\n",
       "    </tr>\n",
       "    <tr>\n",
       "      <th>1138</th>\n",
       "      <td>0</td>\n",
       "      <td>What * u wearing?</td>\n",
       "    </tr>\n",
       "    <tr>\n",
       "      <th>4182</th>\n",
       "      <td>0</td>\n",
       "      <td>Sorry, I'll call later in meeting</td>\n",
       "    </tr>\n",
       "  </tbody>\n",
       "</table>\n",
       "</div>"
      ],
      "text/plain": [
       "      v1                                                 v2\n",
       "5125   0  After my work ah... Den 6 plus lor... U workin...\n",
       "1581   0  Hhahhaahahah rofl wtf nig was leonardo in your...\n",
       "1510   0  Pete,is this your phone still? Its Jenny from ...\n",
       "1138   0                                  What * u wearing?\n",
       "4182   0                  Sorry, I'll call later in meeting"
      ]
     },
     "execution_count": 264,
     "metadata": {},
     "output_type": "execute_result"
    }
   ],
   "source": [
    "# we shuffle the data by randomly selecting samples from data.\n",
    "df = df.sample(frac=1)\n",
    "df.head()"
   ]
  },
  {
   "cell_type": "markdown",
   "metadata": {},
   "source": [
    "- Train, Validation, and Test Split"
   ]
  },
  {
   "cell_type": "code",
   "execution_count": 265,
   "metadata": {},
   "outputs": [],
   "source": [
    "# rate of training data, validation data, and test data\n",
    "train_rate = 0.7\n",
    "val_rate = 0.15\n",
    "test_rate = 0.15\n",
    "\n",
    "# total number of items in data\n",
    "sample_num = df.shape[0]\n",
    "\n",
    "# number of training data\n",
    "train_size = int(sample_num * train_rate)\n",
    "\n",
    "# number of validation data\n",
    "val_size = int(sample_num * val_rate)\n",
    "\n",
    "# number of test data\n",
    "test_size = int(sample_num * test_rate)"
   ]
  },
  {
   "cell_type": "code",
   "execution_count": 266,
   "metadata": {},
   "outputs": [],
   "source": [
    "# split df into train_df, val_df, and test_df\n",
    "test_df = df[:test_size]\n",
    "val_df = df[test_size: test_size + val_size]\n",
    "train_df = df[test_size + val_size: ]"
   ]
  },
  {
   "cell_type": "code",
   "execution_count": 267,
   "metadata": {},
   "outputs": [],
   "source": [
    "# split train_df into train_texts and train_labels\n",
    "train_texts, train_labels = list(train_df.v2), list(train_df.v1)\n",
    "\n",
    "# split val_df into val_texts and val_labels\n",
    "val_texts, val_labels = list(val_df.v2), list(val_df.v1)\n",
    "\n",
    "# split test_df into test_texts and test_labels\n",
    "test_texts, test_labels = list(test_df.v2), list(test_df.v1)"
   ]
  },
  {
   "cell_type": "markdown",
   "metadata": {},
   "source": [
    "## Prepare GloVe Word Embeddings"
   ]
  },
  {
   "cell_type": "code",
   "execution_count": null,
   "metadata": {},
   "outputs": [],
   "source": [
    "#@title Download GloVe word embeddings\n",
    "\n",
    "# === Download GloVe word embeddings\n",
    "!wget http://nlp.stanford.edu/data/glove.6B.zip\n",
    "\n",
    "# === Unzip word embeddings and use only the top 50000 word embeddings for speed\n",
    "!unzip glove.6B.zip\n",
    "!head -n 50000 glove.6B.300d.txt > glove.6B.300d__50k.txt\n",
    "\n",
    "# === Download Preprocessed version\n",
    "!wget https://docs.google.com/uc?id=1KMJTagaVD9hFHXFTPtNk0u2JjvNlyCAu -O glove_split.aa\n",
    "!wget https://docs.google.com/uc?id=1LF2yD2jToXriyD-lsYA5hj03f7J3ZKaY -O glove_split.ab\n",
    "!wget https://docs.google.com/uc?id=1N1xnxkRyM5Gar7sv4d41alyTL92Iip3f -O glove_split.ac\n",
    "!cat glove_split.?? > 'glove.6B.300d__50k.txt'    "
   ]
  },
  {
   "cell_type": "markdown",
   "metadata": {},
   "source": [
    "## Import Dependencies"
   ]
  },
  {
   "cell_type": "code",
   "execution_count": 268,
   "metadata": {},
   "outputs": [],
   "source": [
    "import os\n",
    "import torch\n",
    "import torch.nn as nn\n",
    "import torch.optim as optim\n",
    "import numpy as np\n",
    "import pandas as pd\n",
    "import sacremoses\n",
    "from torch.utils.data import dataloader, Dataset\n",
    "import tqdm"
   ]
  },
  {
   "cell_type": "markdown",
   "metadata": {},
   "source": [
    "## Load GloVe Embeddings"
   ]
  },
  {
   "cell_type": "code",
   "execution_count": 269,
   "metadata": {},
   "outputs": [],
   "source": [
    "# Add two new tokens, padding and unkown\n",
    "PAD_TOKEN = '<PAD>' # whose embedding are zeros\n",
    "UNK_TOKEN = '<UNK>' # whose embedding are random numbers"
   ]
  },
  {
   "cell_type": "code",
   "execution_count": 270,
   "metadata": {},
   "outputs": [],
   "source": [
    "# The function loads words and embeddings from glove_file\n",
    "# glove_file contains word and its embedding\n",
    "def load_glove(glove_file, embedding_dim):\n",
    "    # define token list and add our two new tokens to the beginning\n",
    "    token_ls = [PAD_TOKEN, UNK_TOKEN]\n",
    "    \n",
    "    # define embedding list and add the embedding of our two new tokens to the beginning\n",
    "    embedding_ls = [np.zeros(embedding_dim), np.random.rand(embedding_dim)]\n",
    "    \n",
    "    # open the glove_file, read each line, append the word and its embeddings to token_ls and embedding_ls\n",
    "    with open(glove_file) as f:\n",
    "        index = 0 # for counting the line\n",
    "        for line in f:\n",
    "            # print(f\"line: {index}\")\n",
    "            # split with maxsplit=1 turns \"Love the neighbor\" into ['Love', 'the neighbor']\n",
    "            token, raw_embedding = line.split(maxsplit=1)\n",
    "            token_ls.append(token)\n",
    "            embedding = np.array([float(x) for x in raw_embedding.split()])\n",
    "            embedding_ls.append(embedding)\n",
    "            \n",
    "            index += 1\n",
    "        \n",
    "    return token_ls, np.array(embedding_ls)"
   ]
  },
  {
   "cell_type": "code",
   "execution_count": 271,
   "metadata": {},
   "outputs": [],
   "source": [
    "# The dimension of word embedding\n",
    "EMBEDDING_DIM = 300\n",
    "\n",
    "# The file containing embedding information\n",
    "glove_file = \"glove.6B.300d__50k.txt\"\n",
    "\n",
    "# Use the function defined above to load word embeddings\n",
    "vocab, embeddings = load_glove(glove_file, EMBEDDING_DIM)"
   ]
  },
  {
   "cell_type": "markdown",
   "metadata": {},
   "source": [
    "![](images/001.png)"
   ]
  },
  {
   "cell_type": "markdown",
   "metadata": {},
   "source": [
    "## Featurize text data"
   ]
  },
  {
   "cell_type": "code",
   "execution_count": 272,
   "metadata": {},
   "outputs": [],
   "source": [
    "# This function returns turns data into sentences represented by numbers\n",
    "# \"This is a sentence\" -> [idx_of(this), idx_of(is), idx_of(a), idx_of(sentence)]\n",
    "def featurize(data, labels, tokenizer, vocab, max_seq_length=128):\n",
    "    vocab_to_idx = {word:i for i, word in enumerate(vocab)}\n",
    "    text_data = []\n",
    "    \n",
    "    # ex is a line in data\n",
    "    # tqdm is a progress bar that display the percent of data\n",
    "    for ex in tqdm.tqdm_notebook(data):\n",
    "        tokenized = tokenizer.tokenize(ex.lower())\n",
    "        ids = [vocab_to_idx.get(token, 1) for token in tokenized]\n",
    "        text_data.append(ids)\n",
    "    return text_data, labels"
   ]
  },
  {
   "cell_type": "code",
   "execution_count": 273,
   "metadata": {},
   "outputs": [],
   "source": [
    "# Create a tokenzier\n",
    "tokenizer = sacremoses.MosesTokenizer()"
   ]
  },
  {
   "cell_type": "code",
   "execution_count": 274,
   "metadata": {
    "scrolled": true
   },
   "outputs": [
    {
     "name": "stderr",
     "output_type": "stream",
     "text": [
      "/Users/zhousicheng/Projects/anaconda3/lib/python3.7/site-packages/ipykernel_launcher.py:9: TqdmDeprecationWarning: This function will be removed in tqdm==5.0.0\n",
      "Please use `tqdm.notebook.tqdm` instead of `tqdm.tqdm_notebook`\n",
      "  if __name__ == '__main__':\n"
     ]
    },
    {
     "data": {
      "application/vnd.jupyter.widget-view+json": {
       "model_id": "ebaa091da38d4dd282e28e99c97b7bfb",
       "version_major": 2,
       "version_minor": 0
      },
      "text/plain": [
       "HBox(children=(FloatProgress(value=0.0, max=3902.0), HTML(value='')))"
      ]
     },
     "metadata": {},
     "output_type": "display_data"
    },
    {
     "name": "stdout",
     "output_type": "stream",
     "text": [
      "\n"
     ]
    },
    {
     "data": {
      "application/vnd.jupyter.widget-view+json": {
       "model_id": "74692ac234514a31ab1cfa7728b46b22",
       "version_major": 2,
       "version_minor": 0
      },
      "text/plain": [
       "HBox(children=(FloatProgress(value=0.0, max=835.0), HTML(value='')))"
      ]
     },
     "metadata": {},
     "output_type": "display_data"
    },
    {
     "name": "stdout",
     "output_type": "stream",
     "text": [
      "\n"
     ]
    },
    {
     "data": {
      "application/vnd.jupyter.widget-view+json": {
       "model_id": "fcec33948b4945379db77d62677c276f",
       "version_major": 2,
       "version_minor": 0
      },
      "text/plain": [
       "HBox(children=(FloatProgress(value=0.0, max=835.0), HTML(value='')))"
      ]
     },
     "metadata": {},
     "output_type": "display_data"
    },
    {
     "name": "stdout",
     "output_type": "stream",
     "text": [
      "\n"
     ]
    }
   ],
   "source": [
    "# Featurize train data\n",
    "train_data_indices, train_labels = featurize(train_texts, train_labels, tokenizer, vocab)\n",
    "\n",
    "# Featurize validation data\n",
    "val_data_indices, val_labels = featurize(val_texts, val_labels, tokenizer, vocab)\n",
    "\n",
    "# Featurize test data\n",
    "test_data_indices, test_labels = featurize(test_texts, test_labels, tokenizer, vocab)"
   ]
  },
  {
   "cell_type": "markdown",
   "metadata": {},
   "source": [
    "## Create PyTorch DataLoaders"
   ]
  },
  {
   "cell_type": "code",
   "execution_count": 275,
   "metadata": {},
   "outputs": [],
   "source": [
    "# import dependencies\n",
    "import numpy as np\n",
    "import torch\n",
    "from torch.utils.data import Dataset, DataLoader"
   ]
  },
  {
   "cell_type": "code",
   "execution_count": 276,
   "metadata": {},
   "outputs": [],
   "source": [
    "# SpamDatasets inherits PyTorch Dataset and is used by PyTorch DataLoader\n",
    "class SpamDataset(Dataset):\n",
    "    \n",
    "    # Constructor\n",
    "    def __init__(self, data_list, target_list, max_sent_length=128):\n",
    "        self.data_list = data_list\n",
    "        self.target_list = target_list\n",
    "        self.max_sent_length = max_sent_length\n",
    "        assert(len(self.data_list) == len(self.target_list))\n",
    "    \n",
    "    # getting the length of dataset\n",
    "    def __len__(self):\n",
    "        return len(self.data_list)\n",
    "    \n",
    "    # Triggered when you call dataset[i], return the i-th element in dataset\n",
    "    def __getitem__(self, key, max_sent_length=None):\n",
    "        if max_sent_length is None:\n",
    "            max_sent_length = self.max_sent_length\n",
    "        \n",
    "        token_idx = self.data_list[key][:max_sent_length]\n",
    "        label = self.target_list[key]\n",
    "        \n",
    "        return [token_idx, label]\n",
    "    \n",
    "    \n",
    "    # for DataLoader that dynamicaly pads(add 0) the batch\n",
    "    # so that all data have the same length\n",
    "    def spam_collate_func(self, batch):\n",
    "        \n",
    "        data_list = [] # store padded sequences\n",
    "        label_list = []\n",
    "        \n",
    "        max_batch_seq_len = None\n",
    "        \n",
    "        length_list = []\n",
    "        for seq in batch:\n",
    "            \n",
    "            label_list.append(seq[1])\n",
    "            length_list.append(len(seq[0]))\n",
    "            \n",
    "        if max(length_list) < self.max_sent_length:\n",
    "            max_batch_seq_len = max(length_list)\n",
    "        else:\n",
    "            max_batch_seq_len = self.max_sent_length\n",
    "            \n",
    "        for seq in batch:\n",
    "            pad_vec = np.pad(np.array(seq[0]), \n",
    "                            pad_width=((0, max_batch_seq_len - len(seq[0]))),\n",
    "                            mode=\"constant\", \n",
    "                            constant_values=0)\n",
    "            data_list.append(pad_vec)\n",
    "            \n",
    "        return [torch.from_numpy(np.array(data_list)), torch.LongTensor(label_list)]"
   ]
  },
  {
   "cell_type": "code",
   "execution_count": 277,
   "metadata": {},
   "outputs": [],
   "source": [
    "# parameter\n",
    "BATCH_SIZE = 64\n",
    "max_sent_length = 128"
   ]
  },
  {
   "cell_type": "code",
   "execution_count": 278,
   "metadata": {},
   "outputs": [],
   "source": [
    "# create datasets\n",
    "train_dataset = SpamDataset(train_data_indices, train_labels, max_sent_length)\n",
    "val_dataset = SpamDataset(val_data_indices, val_labels, train_dataset.max_sent_length)\n",
    "test_dataset = SpamDataset(test_data_indices, test_labels, train_dataset.max_sent_length)"
   ]
  },
  {
   "cell_type": "code",
   "execution_count": 279,
   "metadata": {},
   "outputs": [],
   "source": [
    "# create dataloaders\n",
    "train_loader = DataLoader(dataset=train_dataset, \n",
    "                          batch_size=BATCH_SIZE,\n",
    "                          collate_fn=train_dataset.spam_collate_func,\n",
    "                          shuffle=True)\n",
    "\n",
    "val_loader = DataLoader(dataset=val_dataset, \n",
    "                        batch_size=BATCH_SIZE,\n",
    "                        collate_fn=train_dataset.spam_collate_func,\n",
    "                        shuffle=False)\n",
    "\n",
    "test_loader = DataLoader(dataset=test_dataset, \n",
    "                         batch_size=BATCH_SIZE,\n",
    "                         collate_fn=train_dataset.spam_collate_func,\n",
    "                         shuffle=False)\n"
   ]
  },
  {
   "cell_type": "code",
   "execution_count": 280,
   "metadata": {},
   "outputs": [],
   "source": [
    "# method to iterate a data_loader\n",
    "# next(...) will return the next batch. so the result of data_batch and labels should be different.\n",
    "# len(data_batch) is 64, which is batch size\n",
    "# type of data_batch is torch.Tensor of torch.Tensor of torch.Tensor, \n",
    "# data_batch=[ sentence=[ word_id = [], [], [], ... ], [], [], [] ...]\n",
    "\n",
    "# length of labels is also 64, which is batch size\n",
    "# type of labels is torch.Tensor of torch.Tensor\n",
    "# labels_of_this_batch=[label=[], [], [], ...]\n",
    "data_batch, labels = next(iter(train_loader))"
   ]
  },
  {
   "cell_type": "markdown",
   "metadata": {},
   "source": [
    "![](images/002.png)"
   ]
  },
  {
   "cell_type": "markdown",
   "metadata": {},
   "source": [
    "## Build a BiLSTM Classifier"
   ]
  },
  {
   "cell_type": "code",
   "execution_count": 281,
   "metadata": {},
   "outputs": [],
   "source": [
    "# import dependencies\n",
    "import torch\n",
    "import torch.nn as nn\n",
    "import torch.nn.functional as F"
   ]
  },
  {
   "cell_type": "code",
   "execution_count": 282,
   "metadata": {},
   "outputs": [],
   "source": [
    "# our BiLSTM Classifier, which is a model\n",
    "# every model in pytorch should inherit Module\n",
    "\n",
    "class LSTMClassifier(nn.Module):\n",
    "    # constructor\n",
    "    def __init__(self, embeddings, hidden_size, num_layers, num_classes, bidirectional, dropout_prob=0.3):\n",
    "        super().__init__()\n",
    "        # embedding layer\n",
    "        self.embedding_layer = self.load_pretrained_embeddings(embeddings)\n",
    "       \n",
    "        # dropout layer\n",
    "        self.dropout = nn.Dropout(p=dropout_prob)\n",
    "        \n",
    "        # lstm layer\n",
    "        self.lstm = nn.LSTM(input_size=len(embeddings[1]),\n",
    "                            hidden_size=hidden_size,\n",
    "                            num_layers=num_layers,\n",
    "                            batch_first=True,\n",
    "                            bidirectional=True)\n",
    "       \n",
    "        # non linearity layer\n",
    "        self.non_linearity = nn.ReLU()\n",
    "        \n",
    "        # classification layer\n",
    "        self.clf = nn.Linear(hidden_size, num_classes)\n",
    "        \n",
    "        pass\n",
    "    \n",
    "    # return an embedding layer in neural network using pretrained embeddings\n",
    "    def load_pretrained_embeddings(self, embeddings):\n",
    "        embedding_layer = nn.Embedding(embeddings.shape[0], embeddings.shape[1], padding_idx=0)\n",
    "        embedding_layer.weight.data = torch.Tensor(embeddings).float()\n",
    "        return embedding_layer\n",
    "    \n",
    "    # embedding -> bilstm -> pooling -> nonlinearity -> classifier\n",
    "    def forward(self, inputs):\n",
    "        logits = None\n",
    "        out = self.embedding_layer(inputs)\n",
    "        lstm_out, (h_n, c_n) = self.lstm(out)\n",
    "        \n",
    "        forward = lstm_out[:, :, :hidden_size]\n",
    "        backward = lstm_out[:, :, hidden_size:]\n",
    "        \n",
    "        out = torch.stack([forward, backward])\n",
    "        out, _ = torch.max(out, dim=2)\n",
    "        out, _ = torch.max(out, dim=0)\n",
    "        out = self.non_linearity(out)\n",
    "        logits = self.clf(out)\n",
    "        return logits"
   ]
  },
  {
   "cell_type": "raw",
   "metadata": {},
   "source": [
    "Create a Evaluation function that return the accuray of the model. The result is friendly to human."
   ]
  },
  {
   "cell_type": "code",
   "execution_count": 283,
   "metadata": {},
   "outputs": [],
   "source": [
    "def evaluate(model, dataloader, device):\n",
    "    accuracy = None\n",
    "    model.eval()\n",
    "    with torch.no_grad():\n",
    "        all_preds = []\n",
    "        all_labels = []\n",
    "        for batch_text, batch_labels in dataloader:\n",
    "            preds = model(batch_text.to(device))\n",
    "            batch_labels = batch_labels.to(device)\n",
    "            all_preds.append(preds.detach().cpu().numpy())\n",
    "            all_labels.append(batch_labels)\n",
    "    \n",
    "    predicted = np.concatenate(all_preds, axis=0)\n",
    "    label = np.concatenate(all_labels, axis=0)\n",
    "    accuracy = (np.array(label) == predicted.argmax(-1)).mean()\n",
    "    \n",
    "    return accuracy"
   ]
  },
  {
   "cell_type": "markdown",
   "metadata": {},
   "source": [
    "## Initialized the BiLSTM classifier model"
   ]
  },
  {
   "cell_type": "code",
   "execution_count": 284,
   "metadata": {},
   "outputs": [
    {
     "data": {
      "text/plain": [
       "<torch._C.Generator at 0x7f7ee8ab80d0>"
      ]
     },
     "execution_count": 284,
     "metadata": {},
     "output_type": "execute_result"
    }
   ],
   "source": [
    "# model parameters\n",
    "hidden_size = 32\n",
    "num_layers = 1\n",
    "num_classes = 2\n",
    "bidirectional = True\n",
    "torch.manual_seed(628)"
   ]
  },
  {
   "cell_type": "code",
   "execution_count": 285,
   "metadata": {},
   "outputs": [],
   "source": [
    "# set the device, if cuda is availble, use cuda, or use cpu\n",
    "if torch.cuda.is_available():\n",
    "    device = torch.device(\"cuda: 0\")\n",
    "else:\n",
    "    device = torch.device(\"cpu\")"
   ]
  },
  {
   "cell_type": "code",
   "execution_count": 286,
   "metadata": {},
   "outputs": [],
   "source": [
    "model = LSTMClassifier(embeddings, hidden_size, num_layers, num_classes, bidirectional)"
   ]
  },
  {
   "cell_type": "code",
   "execution_count": 287,
   "metadata": {},
   "outputs": [
    {
     "data": {
      "text/plain": [
       "LSTMClassifier(\n",
       "  (embedding_layer): Embedding(50002, 300, padding_idx=0)\n",
       "  (dropout): Dropout(p=0.3, inplace=False)\n",
       "  (lstm): LSTM(300, 32, batch_first=True, bidirectional=True)\n",
       "  (non_linearity): ReLU()\n",
       "  (clf): Linear(in_features=32, out_features=2, bias=True)\n",
       ")"
      ]
     },
     "execution_count": 287,
     "metadata": {},
     "output_type": "execute_result"
    }
   ],
   "source": [
    "model.to(device)"
   ]
  },
  {
   "cell_type": "code",
   "execution_count": 288,
   "metadata": {},
   "outputs": [],
   "source": [
    "# set criterion, which is used to optimize model\n",
    "criterion = nn.CrossEntropyLoss()"
   ]
  },
  {
   "cell_type": "code",
   "execution_count": 289,
   "metadata": {},
   "outputs": [],
   "source": [
    "# set optimizer\n",
    "optimizer = optim.Adam(model.parameters(), lr=0.01)"
   ]
  },
  {
   "cell_type": "markdown",
   "metadata": {},
   "source": [
    "## Start Training the model with early stopping\n",
    "- Train the model for NUM_EPOCHS.\n",
    "- Keep track of trainning loss\n",
    "- Compute the validation accuracy after each epoch, keep track of the best validation accuracy and save the model\n",
    "- If the validation accuracy does not improve for more than early_stop_patience times in a row, stop trainning"
   ]
  },
  {
   "cell_type": "code",
   "execution_count": 294,
   "metadata": {},
   "outputs": [],
   "source": [
    "class Learner:\n",
    "    # constructor\n",
    "    def __init__(self, model, criterion, metrics, optimizer):\n",
    "        self.model = model\n",
    "        self.criterion = criterion\n",
    "        self.metrics = metrics\n",
    "        self.optimizer = optimizer\n",
    "        \n",
    "    # train with early stop    \n",
    "    def train_early_stop(self, train_loader, val_loader, early_stop_patience, num_epochs, device):\n",
    "        train_loss_history = []\n",
    "        val_accuracy_history = []\n",
    "        best_val_accuracy = 0\n",
    "        n_no_improve = 0\n",
    "        \n",
    "        for epoch in tqdm.tqdm_notebook(range(num_epochs)):\n",
    "            # enable regularization\n",
    "            self.model.train()\n",
    "\n",
    "            # work with training loader\n",
    "            for i, (data_batch, batch_labels) in enumerate(train_loader):\n",
    "                preds = self.model(data_batch.to(device))\n",
    "                loss = self.criterion(preds, batch_labels.to(device))\n",
    "                loss.backward()\n",
    "                self.optimizer.step()\n",
    "                self.optimizer.zero_grad()\n",
    "                train_loss_history.append(loss.item())\n",
    "\n",
    "            # use validation loader to get the accuracy of the model\n",
    "            accuracy = self.metrics(self.model, val_loader, device)\n",
    "            val_accuracy_history.append(accuracy)\n",
    "            print(f\"Epoch: {epoch}, accuracy: {accuracy}\")\n",
    "\n",
    "            if accuracy > best_val_accuracy:\n",
    "                best_val_accuracy = accuracy\n",
    "                torch.save(self.model, 'best_model.pt')\n",
    "            else:\n",
    "                n_no_improve += 1\n",
    "                print(f\"Epoch: {n_no_improve}, {accuracy}\")\n",
    "                if n_no_improve > early_stop_patience:\n",
    "                    print(f\"Early stopping at: {n_no_improve}\")\n",
    "                    break\n",
    "\n",
    "        print(f\"Best Validation Accuracy: {best_val_accuracy}\")\n",
    "        return train_loss_history, val_accuracy_history"
   ]
  },
  {
   "cell_type": "code",
   "execution_count": 295,
   "metadata": {},
   "outputs": [],
   "source": [
    "learner = Learner(model, criterion, evaluate, optimizer)"
   ]
  },
  {
   "cell_type": "code",
   "execution_count": 296,
   "metadata": {},
   "outputs": [
    {
     "name": "stderr",
     "output_type": "stream",
     "text": [
      "/Users/zhousicheng/Projects/anaconda3/lib/python3.7/site-packages/ipykernel_launcher.py:16: TqdmDeprecationWarning: This function will be removed in tqdm==5.0.0\n",
      "Please use `tqdm.notebook.tqdm` instead of `tqdm.tqdm_notebook`\n",
      "  app.launch_new_instance()\n"
     ]
    },
    {
     "data": {
      "application/vnd.jupyter.widget-view+json": {
       "model_id": "89ea4c538a854bd5b7ac2ae7834f1a96",
       "version_major": 2,
       "version_minor": 0
      },
      "text/plain": [
       "HBox(children=(FloatProgress(value=0.0, max=10.0), HTML(value='')))"
      ]
     },
     "metadata": {},
     "output_type": "display_data"
    },
    {
     "name": "stdout",
     "output_type": "stream",
     "text": [
      "Epoch: 0, accuracy: 0.9880239520958084\n",
      "Epoch: 1, accuracy: 0.9892215568862276\n",
      "Epoch: 2, accuracy: 0.9868263473053892\n",
      "Epoch: 1, 0.9868263473053892\n",
      "Epoch: 3, accuracy: 0.9892215568862276\n",
      "Epoch: 2, 0.9892215568862276\n",
      "Epoch: 4, accuracy: 0.9904191616766467\n",
      "Epoch: 5, accuracy: 0.9892215568862276\n",
      "Epoch: 3, 0.9892215568862276\n",
      "Early stopping at: 3\n",
      "Best Validation Accuracy: 0.9904191616766467\n"
     ]
    }
   ],
   "source": [
    "early_stop_patience = 2\n",
    "NUM_EPOCHS = 10\n",
    "train_loss_history, val_accuracy_history = learner.train_early_stop(train_loader, val_loader, early_stop_patience,NUM_EPOCHS, device )"
   ]
  },
  {
   "cell_type": "markdown",
   "metadata": {},
   "source": [
    "## Draw Training Curve"
   ]
  },
  {
   "cell_type": "code",
   "execution_count": 297,
   "metadata": {},
   "outputs": [
    {
     "data": {
      "text/plain": [
       "<matplotlib.axes._subplots.AxesSubplot at 0x7f7ed2eb7cd0>"
      ]
     },
     "execution_count": 297,
     "metadata": {},
     "output_type": "execute_result"
    },
    {
     "data": {
      "image/png": "[encoded data removed]",
      "text/plain": [
       "<Figure size 432x288 with 1 Axes>"
      ]
     },
     "metadata": {
      "needs_background": "light"
     },
     "output_type": "display_data"
    }
   ],
   "source": [
    "# X-axis: training steps, Y-axis: training loss\n",
    "pd.Series(train_loss_history).plot()"
   ]
  },
  {
   "cell_type": "markdown",
   "metadata": {},
   "source": [
    "## Plot Validation Accuracy Curve"
   ]
  },
  {
   "cell_type": "code",
   "execution_count": 298,
   "metadata": {},
   "outputs": [
    {
     "data": {
      "text/plain": [
       "<matplotlib.axes._subplots.AxesSubplot at 0x7f7f08ca3850>"
      ]
     },
     "execution_count": 298,
     "metadata": {},
     "output_type": "execute_result"
    },
    {
     "data": {
      "image/png": "[encoded data removed]",
      "text/plain": [
       "<Figure size 432x288 with 1 Axes>"
      ]
     },
     "metadata": {
      "needs_background": "light"
     },
     "output_type": "display_data"
    }
   ],
   "source": [
    "# X-axis: Epochs, Y-axis: validation accuracy\n",
    "pd.Series(val_accuracy_history).plot()"
   ]
  },
  {
   "cell_type": "markdown",
   "metadata": {},
   "source": [
    "## Test the model on Test DataLoader"
   ]
  },
  {
   "cell_type": "code",
   "execution_count": 299,
   "metadata": {},
   "outputs": [
    {
     "name": "stdout",
     "output_type": "stream",
     "text": [
      "0.9916167664670659\n"
     ]
    }
   ],
   "source": [
    "# reload the best model\n",
    "best_model = torch.load(\"best_model.pt\")\n",
    "test_accuracy = evaluate(model, test_loader, device)\n",
    "print(test_accuracy)"
   ]
  },
  {
   "cell_type": "markdown",
   "metadata": {},
   "source": [
    "## Detailed Analysis of the Model"
   ]
  },
  {
   "cell_type": "markdown",
   "metadata": {},
   "source": [
    "### Prepare a batch"
   ]
  },
  {
   "cell_type": "code",
   "execution_count": 236,
   "metadata": {},
   "outputs": [],
   "source": [
    "# We only use one batch to trace the output of each part of model\n",
    "data_batch, label_batch = next(iter(train_loader))"
   ]
  },
  {
   "cell_type": "markdown",
   "metadata": {},
   "source": [
    "### Prepare a model"
   ]
  },
  {
   "cell_type": "code",
   "execution_count": 237,
   "metadata": {},
   "outputs": [],
   "source": [
    "# 01: Create Embedding Layer\n",
    "embedding_layer = nn.Embedding(embeddings.shape[0],embeddings.shape[1], padding_idx=0)"
   ]
  },
  {
   "cell_type": "code",
   "execution_count": 238,
   "metadata": {},
   "outputs": [],
   "source": [
    "embedding_layer.weight.data = torch.Tensor(embeddings).float()"
   ]
  },
  {
   "cell_type": "code",
   "execution_count": 239,
   "metadata": {},
   "outputs": [],
   "source": [
    "# 02: Create Dropout Layer, with dropout probability 0.3\n",
    "dropout = nn.Dropout(p=0.3)"
   ]
  },
  {
   "cell_type": "code",
   "execution_count": 240,
   "metadata": {},
   "outputs": [],
   "source": [
    "# 03: Create lstm Layer\n",
    "hidden_size = 25\n",
    "lstm = nn.LSTM(input_size=300, # which is the embedding dimesion\n",
    "               hidden_size=hidden_size, # which is the size of h in lstm\n",
    "               num_layers=1,   # number of lstm layer is one\n",
    "               batch_first=True,\n",
    "               bidirectional=True)"
   ]
  },
  {
   "cell_type": "code",
   "execution_count": 241,
   "metadata": {},
   "outputs": [],
   "source": [
    "# 04: Create non linear layer\n",
    "non_linearity = nn.ReLU()"
   ]
  },
  {
   "cell_type": "code",
   "execution_count": 242,
   "metadata": {},
   "outputs": [],
   "source": [
    "# 05: Create classification layer\n",
    "clf = nn.Linear(hidden_size, 2) # hiddensize, and num of classes"
   ]
  },
  {
   "cell_type": "markdown",
   "metadata": {},
   "source": [
    "### See the output of each layer"
   ]
  },
  {
   "cell_type": "code",
   "execution_count": 243,
   "metadata": {},
   "outputs": [],
   "source": [
    "logits = None"
   ]
  },
  {
   "cell_type": "code",
   "execution_count": 244,
   "metadata": {},
   "outputs": [],
   "source": [
    "embedding_out = embedding_layer(data_batch)"
   ]
  },
  {
   "cell_type": "markdown",
   "metadata": {},
   "source": [
    "![](images/003.png)"
   ]
  },
  {
   "cell_type": "code",
   "execution_count": 245,
   "metadata": {},
   "outputs": [],
   "source": [
    "lstm_out, (h_n, c_n) = lstm(embedding_out)\n",
    "lstm_forward_out = lstm_out[:,:,:hidden_size]\n",
    "lstm_backward_out= lstm_out[:,:,hidden_size:]"
   ]
  },
  {
   "cell_type": "code",
   "execution_count": 246,
   "metadata": {},
   "outputs": [
    {
     "data": {
      "text/plain": [
       "torch.Size([64, 77, 50])"
      ]
     },
     "execution_count": 246,
     "metadata": {},
     "output_type": "execute_result"
    }
   ],
   "source": [
    "lstm_out.shape"
   ]
  },
  {
   "cell_type": "markdown",
   "metadata": {},
   "source": [
    "![](images/004.jpg)"
   ]
  },
  {
   "cell_type": "code",
   "execution_count": 247,
   "metadata": {},
   "outputs": [],
   "source": [
    "stacked_lstm_out = torch.stack([lstm_forward_out, lstm_backward_out])"
   ]
  },
  {
   "cell_type": "code",
   "execution_count": 248,
   "metadata": {},
   "outputs": [
    {
     "data": {
      "text/plain": [
       "torch.Size([2, 64, 77, 25])"
      ]
     },
     "execution_count": 248,
     "metadata": {},
     "output_type": "execute_result"
    }
   ],
   "source": [
    "stacked_lstm_out.shape"
   ]
  },
  {
   "cell_type": "code",
   "execution_count": 249,
   "metadata": {},
   "outputs": [],
   "source": [
    "dim_2_max, _ = torch.max(stacked_lstm_out, dim=2)"
   ]
  },
  {
   "cell_type": "code",
   "execution_count": 250,
   "metadata": {},
   "outputs": [],
   "source": [
    "dim_0_max, _ = torch.max(dim_2_max, dim=0)"
   ]
  },
  {
   "cell_type": "code",
   "execution_count": 251,
   "metadata": {},
   "outputs": [
    {
     "data": {
      "text/plain": [
       "torch.Size([64, 25])"
      ]
     },
     "execution_count": 251,
     "metadata": {},
     "output_type": "execute_result"
    }
   ],
   "source": [
    "dim_0_max.shape"
   ]
  },
  {
   "cell_type": "markdown",
   "metadata": {},
   "source": [
    "![](images/005.png)"
   ]
  },
  {
   "cell_type": "code",
   "execution_count": 252,
   "metadata": {},
   "outputs": [],
   "source": [
    "# turn each negative number to zero\n",
    "non_linearity_out = non_linearity(dim_0_max)"
   ]
  },
  {
   "cell_type": "code",
   "execution_count": 253,
   "metadata": {},
   "outputs": [],
   "source": [
    "logits = clf(non_linearity_out)"
   ]
  },
  {
   "cell_type": "code",
   "execution_count": 254,
   "metadata": {},
   "outputs": [
    {
     "data": {
      "text/plain": [
       "torch.Size([64, 2])"
      ]
     },
     "execution_count": 254,
     "metadata": {},
     "output_type": "execute_result"
    }
   ],
   "source": [
    "logits.shape"
   ]
  },
  {
   "cell_type": "markdown",
   "metadata": {},
   "source": [
    "### Evaluate Cross Entrophy"
   ]
  },
  {
   "cell_type": "code",
   "execution_count": 256,
   "metadata": {},
   "outputs": [],
   "source": [
    "loss = criterion(logits, label_batch)"
   ]
  },
  {
   "cell_type": "code",
   "execution_count": 257,
   "metadata": {},
   "outputs": [
    {
     "data": {
      "text/plain": [
       "tensor(0.6580, grad_fn=<NllLossBackward>)"
      ]
     },
     "execution_count": 257,
     "metadata": {},
     "output_type": "execute_result"
    }
   ],
   "source": [
    "loss"
   ]
  },
  {
   "cell_type": "code",
   "execution_count": 260,
   "metadata": {},
   "outputs": [],
   "source": [
    "loss.backward()"
   ]
  },
  {
   "cell_type": "code",
   "execution_count": 261,
   "metadata": {},
   "outputs": [],
   "source": [
    "optimizer.step()\n",
    "optimizer.zero_grad()"
   ]
  }
 ],
 "metadata": {
  "kernelspec": {
   "display_name": "Python 3",
   "language": "python",
   "name": "python3"
  },
  "language_info": {
   "codemirror_mode": {
    "name": "ipython",
    "version": 3
   },
   "file_extension": ".py",
   "mimetype": "text/x-python",
   "name": "python",
   "nbconvert_exporter": "python",
   "pygments_lexer": "ipython3",
   "version": "3.7.6"
  }
 },
 "nbformat": 4,
 "nbformat_minor": 4
}
